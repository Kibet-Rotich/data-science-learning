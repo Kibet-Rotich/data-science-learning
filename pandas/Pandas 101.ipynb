{
  "cells": [
    {
      "cell_type": "markdown",
      "metadata": {},
      "source": [
        "# Pandas 101\n",
        "\n",
        "A comprehensive guide to getting started with Pandas for data analysis and manipulation."
      ]
    },
    {
      "cell_type": "code",
      "execution_count": null,
      "metadata": {},
      "outputs": [],
      "source": [
        "import pandas as pd"
      ]
    },
    {
      "cell_type": "markdown",
      "metadata": {},
      "source": [
        "## Basics\n",
        "\n",
        "### DataFrames and Series\n",
        "\n",
        "A DataFrame is a 2D representation of data with rows and columns. It's the primary data structure in Pandas."
      ]
    },
    {
      "cell_type": "code",
      "execution_count": null,
      "metadata": {},
      "outputs": [],
      "source": [
        "df = pd.DataFrame({\n",
        "    'name':['john','mary','peter','jeff','bill','lisa'],\n",
        "    'age':[23,78,22,19,45,33],\n",
        "    'sex': ['male','female','male','male','male','female']\n",
        "})\n",
        "df"
      ]
    },
    {
      "cell_type": "markdown",
      "metadata": {},
      "source": [
        "A column in a DataFrame is called a Series - essentially a 1D array with labels."
      ]
    },
    {
      "cell_type": "code",
      "execution_count": null,
      "metadata": {},
      "outputs": [],
      "source": [
        "ages = pd.Series([22,31,43,44,55])\n",
        "ages"
      ]
    },
    {
      "cell_type": "markdown",
      "metadata": {},
      "source": [
        "### Loading Data\n",
        "\n",
        "We load data using the `read_*` methods, where the asterisk represents the file type. For example, `read_csv(filename)` for CSV files."
      ]
    },
    {
      "cell_type": "code",
      "execution_count": null,
      "metadata": {},
      "outputs": [],
      "source": [
        "df = pd.read_csv('purchases.csv')\n",
        "df"
      ]
    },
    {
      "cell_type": "markdown",
      "metadata": {},
      "source": [
        "### Inspecting Data\n",
        "\n",
        "We can inspect the data using several built-in DataFrame methods:\n",
        "- `.head()` - displays the first 5 rows\n",
        "- `.tail()` - displays the last 5 rows\n",
        "- `.info()` - shows information about the DataFrame including column data types and non-null values\n",
        "- `.describe()` - provides descriptive statistics about numerical columns\n",
        "- `.shape` - returns the dimensions (rows, columns)\n",
        "- `.columns` - lists all column names"
      ]
    },
    {
      "cell_type": "code",
      "execution_count": null,
      "metadata": {},
      "outputs": [],
      "source": [
        "print(\"Output of df.head():\")\n",
        "print(df.head())\n",
        "print(\"\\nOutput of df.tail():\")\n",
        "print(df.tail())\n",
        "print(\"\\nOutput of df.info():\")\n",
        "df.info()\n",
        "print(\"\\nOutput of df.describe():\")\n",
        "print(df.describe())\n",
        "print(\"\\nOutput of df.shape:\")\n",
        "print(df.shape)\n",
        "print(\"\\nOutput of df.columns:\")\n",
        "print(df.columns)"
      ]
    },
    {
      "cell_type": "markdown",
      "metadata": {},
      "source": [
        "## Selecting and Filtering\n",
        "\n",
        "### Selecting Columns\n",
        "\n",
        "We can use column names to access columns using bracket notation: `df['column_name']`"
      ]
    },
    {
      "cell_type": "code",
      "execution_count": null,
      "metadata": {},
      "outputs": [],
      "source": [
        "df['product']"
      ]
    },
    {
      "cell_type": "markdown",
      "metadata": {},
      "source": [
        "### Using iloc and loc\n",
        "\n",
        "We can select or filter rows using `iloc` or `loc`:\n",
        "- `iloc` is integer-location based indexing - it selects rows and columns based on their integer position\n",
        "- `loc` is label-based indexing - it selects rows and columns based on their labels"
      ]
    },
    {
      "cell_type": "code",
      "execution_count": null,
      "metadata": {},
      "outputs": [],
      "source": [
        "print(\"Selecting the first row and first column using iloc:\")\n",
        "display(df.iloc[0,0])\n",
        "\n",
        "print(\"\\nSelecting the first three rows using iloc:\")\n",
        "display(df.iloc[0:3])\n",
        "\n",
        "print(\"\\nSelecting rows with index 1, 3, and 5 using iloc:\")\n",
        "display(df.iloc[[1, 3, 5]])"
      ]
    },
    {
      "cell_type": "markdown",
      "metadata": {},
      "source": [
        "When filtering using both rows and columns with text labels, we use `loc`. For example, displaying the product name and quantity for products that cost more than 100:"
      ]
    },
    {
      "cell_type": "code",
      "execution_count": null,
      "metadata": {},
      "outputs": [],
      "source": [
        "display(df.loc[df['price']>100,['product','quantity']])"
      ]
    },
    {
      "cell_type": "markdown",
      "metadata": {},
      "source": [
        "### Conditional Filtering\n",
        "\n",
        "We can filter records using conditions. For example, finding products where prices are above 1000:"
      ]
    },
    {
      "cell_type": "code",
      "execution_count": null,
      "metadata": {},
      "outputs": [],
      "source": [
        "print(df[df['price'] > 1000])"
      ]
    },
    {
      "cell_type": "markdown",
      "metadata": {},
      "source": [
        "We can combine multiple conditions using `&` (and) or `|` (or). Let's filter purchases where the product price is above 100 AND quantity is more than 1:"
      ]
    },
    {
      "cell_type": "code",
      "execution_count": null,
      "metadata": {},
      "outputs": [],
      "source": [
        "display(df[(df['price']>100)&(df['quantity']>1)])"
      ]
    },
    {
      "cell_type": "markdown",
      "metadata": {},
      "source": [
        "### Sorting\n",
        "\n",
        "We can sort values using the `.sort_values()` method. Let's sort products by highest quantity purchased:"
      ]
    },
    {
      "cell_type": "code",
      "execution_count": null,
      "metadata": {},
      "outputs": [],
      "source": [
        "display(df.sort_values('quantity',ascending=False))"
      ]
    },
    {
      "cell_type": "markdown",
      "metadata": {},
      "source": [
        "## Data Cleaning and Transformation\n",
        "\n",
        "### Handling Missing Values\n",
        "\n",
        "We can handle missing values using various methods:\n",
        "- `isna()` - finds missing values\n",
        "- `fillna()` - imputes (fills) missing values\n",
        "- `dropna()` - deletes records with missing values"
      ]
    },
    {
      "cell_type": "code",
      "execution_count": null,
      "metadata": {},
      "outputs": [],
      "source": [
        "newdf = pd.read_csv('purchases 2.csv')\n",
        "newdf.info()\n",
        "display(newdf)"
      ]
    },
    {
      "cell_type": "markdown",
      "metadata": {},
      "source": [
        "Let's use `isna()` to find the null values:"
      ]
    },
    {
      "cell_type": "code",
      "execution_count": null,
      "metadata": {},
      "outputs": [],
      "source": [
        "newdf.isna().sum()"
      ]
    },
    {
      "cell_type": "markdown",
      "metadata": {},
      "source": [
        "We can choose to impute the missing values with statistics like mean, median, or use forward fill or backward fill strategies.\n",
        "\n",
        "Filling the null price values with mean:"
      ]
    },
    {
      "cell_type": "code",
      "execution_count": null,
      "metadata": {},
      "outputs": [],
      "source": [
        "newdf['price'] = newdf['price'].fillna(newdf['price'].mean())\n",
        "newdf.info()"
      ]
    },
    {
      "cell_type": "markdown",
      "metadata": {},
      "source": [
        "Filling the null quantity values with median:"
      ]
    },
    {
      "cell_type": "code",
      "execution_count": null,
      "metadata": {},
      "outputs": [],
      "source": [
        "newdf['quantity'] = newdf['quantity'].fillna(newdf['quantity'].median())\n",
        "newdf.info()"
      ]
    },
    {
      "cell_type": "markdown",
      "metadata": {},
      "source": [
        "Filling the missing product values with forward fill strategy:"
      ]
    },
    {
      "cell_type": "code",
      "execution_count": null,
      "metadata": {},
      "outputs": [],
      "source": [
        "newdf['product'] = newdf['product'].fillna(method='ffill')\n",
        "newdf.info()"
      ]
    },
    {
      "cell_type": "markdown",
      "metadata": {},
      "source": [
        "### Applying Functions\n",
        "\n",
        "We can apply functions to columns using `apply()` and `map()` functions:\n",
        "- `apply()` applies functions axis-wise (along columns or rows)\n",
        "- `map()` applies functions element-wise\n",
        "\n",
        "Lambda is a small anonymous function in Python. Its main use case is when we want to use a small function without needing to formally define it.\n",
        "\n",
        "Let's double all quantities in the DataFrame:"
      ]
    },
    {
      "cell_type": "code",
      "execution_count": null,
      "metadata": {},
      "outputs": [],
      "source": [
        "newdf['quantity'] = newdf['quantity'].apply(lambda x: x*2)\n",
        "newdf"
      ]
    },
    {
      "cell_type": "markdown",
      "metadata": {},
      "source": [
        "Here's a simple example of a lambda function:"
      ]
    },
    {
      "cell_type": "code",
      "execution_count": null,
      "metadata": {},
      "outputs": [],
      "source": [
        "double = lambda x: x*2\n",
        "print(double(5))"
      ]
    },
    {
      "cell_type": "markdown",
      "metadata": {},
      "source": [
        "Let's add 500 to the price of products above 1000 in price using `map()`:"
      ]
    },
    {
      "cell_type": "code",
      "execution_count": null,
      "metadata": {},
      "outputs": [],
      "source": [
        "newdf['price'] = newdf['price'].map(lambda x: x+500 if x>1000 else x)\n",
        "newdf"
      ]
    },
    {
      "cell_type": "markdown",
      "metadata": {},
      "source": [
        "### String Operations\n",
        "\n",
        "We can operate on textual data using the `.str` accessor. For example, let's check the length of each product name:"
      ]
    },
    {
      "cell_type": "code",
      "execution_count": null,
      "metadata": {},
      "outputs": [],
      "source": [
        "newdf['product'].str.len()"
      ]
    },
    {
      "cell_type": "markdown",
      "metadata": {},
      "source": [
        "Other useful string functions using the `.str` accessor:"
      ]
    },
    {
      "cell_type": "code",
      "execution_count": null,
      "metadata": {},
      "outputs": [],
      "source": [
        "# Convert product names to uppercase\n",
        "print(\"\\nProduct names in uppercase:\")\n",
        "display(newdf['product'].str.upper().head())\n",
        "\n",
        "# Convert product names to lowercase\n",
        "print(\"\\nProduct names in lowercase:\")\n",
        "display(newdf['product'].str.lower().head())\n",
        "\n",
        "# Check if product name contains 'Mouse'\n",
        "print(\"\\nProducts containing 'Mouse':\")\n",
        "display(newdf[newdf['product'].str.contains('Mouse', na=False)])\n",
        "\n",
        "# Replace 'Laptop' with 'Gaming Laptop'\n",
        "print(\"\\nReplacing 'Laptop' with 'Gaming Laptop':\")\n",
        "newdf['product'] = newdf['product'].str.replace('Laptop', 'Gaming Laptop')\n",
        "display(newdf)"
      ]
    },
    {
      "cell_type": "markdown",
      "metadata": {},
      "source": [
        "### Creating New Columns\n",
        "\n",
        "We can create new columns using data from other columns. Let's create a column called 'total cost', calculated by multiplying price and quantity:"
      ]
    },
    {
      "cell_type": "code",
      "execution_count": null,
      "metadata": {},
      "outputs": [],
      "source": [
        "newdf['total cost'] = newdf['price']*newdf['quantity']\n",
        "newdf"
      ]
    },
    {
      "cell_type": "markdown",
      "metadata": {},
      "source": [
        "## Grouping & Combining Data\n",
        "\n",
        "### GroupBy\n",
        "\n",
        "We can group or combine data using the `groupby()` method. We use aggregation functions like `mean`, `max`, `min`, `count`, `sum` to assign a value to the grouping.\n",
        "\n",
        "Let's see how many sales each product made by grouping by the product column and summing the quantity:"
      ]
    },
    {
      "cell_type": "code",
      "execution_count": null,
      "metadata": {},
      "outputs": [],
      "source": [
        "display(newdf.groupby('product')['quantity'].sum())"
      ]
    },
    {
      "cell_type": "markdown",
      "metadata": {},
      "source": [
        "### Pivot Tables\n",
        "\n",
        "Pivot tables are useful for summarizing and reorganizing data. They allow you to aggregate data based on one or more columns.\n",
        "\n",
        "Let's create a pivot table to show the total sales of each product:"
      ]
    },
    {
      "cell_type": "code",
      "execution_count": null,
      "metadata": {},
      "outputs": [],
      "source": [
        "pivot_table = newdf.pivot_table(index='product', values='total cost', aggfunc='sum')\n",
        "print(\"Pivot table showing total sales sold per product:\")\n",
        "display(pivot_table)"
      ]
    },
    {
      "cell_type": "markdown",
      "metadata": {},
      "source": [
        "## Quick Visualization with Pandas\n",
        "\n",
        "We can visualize datasets in Pandas using the `plot()` method. We can create line graphs, bar graphs, histograms, or scatter plots."
      ]
    },
    {
      "cell_type": "code",
      "execution_count": null,
      "metadata": {},
      "outputs": [],
      "source": [
        "pivot_table.columns"
      ]
    },
    {
      "cell_type": "code",
      "execution_count": null,
      "metadata": {},
      "outputs": [],
      "source": [
        "pivot_table.plot(y='total cost', kind='bar')"
      ]
    },
    {
      "cell_type": "markdown",
      "metadata": {},
      "source": [
        "Let's group by product and calculate the sum of quantity and total cost:"
      ]
    },
    {
      "cell_type": "code",
      "execution_count": null,
      "metadata": {},
      "outputs": [],
      "source": [
        "product_summary = newdf.groupby('product').agg({\n",
        "    'quantity': 'sum',\n",
        "    'total cost': 'sum'\n",
        "}).reset_index()\n",
        "\n",
        "display(product_summary)"
      ]
    },
    {
      "cell_type": "markdown",
      "metadata": {},
      "source": [
        "### Using Matplotlib\n",
        "\n",
        "We can use libraries like Matplotlib and Seaborn to perform more advanced visualizations. Let's create a scatter plot showing product count vs total cost:"
      ]
    },
    {
      "cell_type": "code",
      "execution_count": null,
      "metadata": {},
      "outputs": [],
      "source": [
        "import matplotlib.pyplot as plt\n",
        "\n",
        "plt.scatter(product_summary['quantity'], product_summary['total cost'])\n",
        "plt.xlabel('Product Count')\n",
        "plt.ylabel('Total Cost')\n",
        "plt.title('Product Count vs Total Cost')\n",
        "plt.show()"
      ]
    }
  ],
  "metadata": {
    "kernelspec": {
      "display_name": "Python 3",
      "language": "python",
      "name": "python3"
    },
    "language_info": {
      "codemirror_mode": {
        "name": "ipython",
        "version": 3
      },
      "file_extension": ".py",
      "mimetype": "text/x-python",
      "name": "python",
      "nbconvert_exporter": "python",
      "pygments_lexer": "ipython3",
      "version": "3.8.0"
    }
  },
  "nbformat": 4,
  "nbformat_minor": 4
}