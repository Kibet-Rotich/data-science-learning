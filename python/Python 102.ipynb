{
 "cells": [
  {
   "cell_type": "markdown",
   "metadata": {},
   "source": [
    "# 🐍 Python Functions and Arrays\n",
    "\n",
    "In this lesson, we'll learn two important topics in Python:\n",
    "\n",
    "1. **Functions** – reusable blocks of code that perform specific tasks.\n",
    "2. **Arrays (Lists)** – ways of storing multiple items under a single variable.\n",
    "\n",
    "Let's dive in step by step!"
   ]
  },
  {
   "cell_type": "markdown",
   "metadata": {},
   "source": [
    "## 🧩 Functions\n",
    "\n",
    "A **function** is a block of organized, reusable code that performs a specific task.\n",
    "\n",
    "Functions help make your code **modular, readable, and reusable**.\n",
    "\n",
    "### Structure of a function\n",
    "```python\n",
    "def function_name(parameters):\n",
    "    # block of code\n",
    "    return result\n",
    "```\n",
    "\n",
    "### Function types:\n",
    "- **Built-in functions:** Provided by Python (like `print()`, `len()`, `type()`).\n",
    "- **User-defined functions:** Functions you create to perform your own tasks.\n",
    "\n",
    "Let's begin with a simple example:"
   ]
  },
  {
   "cell_type": "code",
   "execution_count": null,
   "metadata": {},
   "outputs": [
    {
     "ename": "",
     "evalue": "",
     "output_type": "error",
     "traceback": [
      "\u001b[1;31mRunning cells with 'Python 3.14.0' requires the ipykernel package.\n",
      "\u001b[1;31m<a href='command:jupyter.createPythonEnvAndSelectController'>Create a Python Environment</a> with the required packages.\n",
      "\u001b[1;31mOr install 'ipykernel' using the command: 'c:/Users/pc/AppData/Local/Programs/Python/Python314/python.exe -m pip install ipykernel -U --user --force-reinstall'"
     ]
    }
   ],
   "source": [
    "name ='kirui'\n",
    "\n",
    "print('Hi there', name)\n",
    "\n",
    "name = 'asbel'\n",
    "\n",
    "print('Hi there', name)"
   ]
  },
  {
   "cell_type": "markdown",
   "metadata": {},
   "source": [
    "Here we manually greet two people by changing the variable `name`. But this becomes repetitive.\n",
    "\n",
    "👉 Let’s use a **function** to make it reusable."
   ]
  },
  {
   "cell_type": "code",
   "execution_count": null,
   "metadata": {},
   "outputs": [],
   "source": [
    "def greet(name, age):\n",
    "    print(\"Hey there\", name)\n",
    "    print('You are', age, 'years old')\n",
    "\n",
    "greet('kibet', 56)\n",
    "greet('rotich', 89)\n",
    "greet('kirui', 27)\n",
    "greet('kosgei', 96)"
   ]
  },
  {
   "cell_type": "markdown",
   "metadata": {},
   "source": [
    "✅ Each time we call the function, it executes the same code with different arguments.\n",
    "\n",
    "This makes our code shorter and easier to maintain."
   ]
  },
  {
   "cell_type": "markdown",
   "metadata": {},
   "source": [
    "## ➕ Returning Values from Functions\n",
    "\n",
    "Sometimes we want a function to **calculate something and give back a result**.\n",
    "\n",
    "We do this using the `return` statement."
   ]
  },
  {
   "cell_type": "code",
   "execution_count": null,
   "metadata": {},
   "outputs": [],
   "source": [
    "def add(x, y):\n",
    "    sum = x + y\n",
    "    return sum\n",
    "\n",
    "z = add(67, 45)\n",
    "print(add(2, 3))\n",
    "print(add(54, 78))\n",
    "print(add(78, 12))"
   ]
  },
  {
   "cell_type": "markdown",
   "metadata": {},
   "source": [
    "Here, the function returns a **value** that can be used later or printed.\n",
    "\n",
    "👉 When a function has `return`, it *hands back* a result to the code that called it."
   ]
  },
  {
   "cell_type": "markdown",
   "metadata": {},
   "source": [
    "### Example: Calculating Year of Birth\n",
    "\n",
    "We can write a function that calculates someone's year of birth given their age."
   ]
  },
  {
   "cell_type": "code",
   "execution_count": null,
   "metadata": {},
   "outputs": [],
   "source": [
    "def calcyob(age):\n",
    "    yob = 2025 - age\n",
    "    return yob\n",
    "\n",
    "print(calcyob(90))\n",
    "print(calcyob(20))\n",
    "print(calcyob(50))\n",
    "print(calcyob(10))"
   ]
  },
  {
   "cell_type": "markdown",
   "metadata": {},
   "source": [
    "### Example: Loan Approval Function\n",
    "\n",
    "Let’s write a function that checks if someone qualifies for a loan.\n",
    "\n",
    "📘 **Rule:** If account balance is at least half of the amount applied for, the loan is approved."
   ]
  },
  {
   "cell_type": "code",
   "execution_count": null,
   "metadata": {},
   "outputs": [],
   "source": [
    "def loanapproval(amountapplied, accountbalance):\n",
    "    if accountbalance >= amountapplied / 2:\n",
    "        return True\n",
    "    else:\n",
    "        return False\n",
    "\n",
    "print(loanapproval(100001, 50000))"
   ]
  },
  {
   "cell_type": "markdown",
   "metadata": {},
   "source": [
    "If the account balance is large enough, the function returns `True`; otherwise, it returns `False`.\n",
    "\n",
    "You can also make the output more user-friendly:"
   ]
  },
  {
   "cell_type": "code",
   "execution_count": null,
   "metadata": {},
   "outputs": [],
   "source": [
    "amount = float(input(\"Enter loan amount: \"))\n",
    "balance = float(input(\"Enter your account balance: \"))\n",
    "\n",
    "if loanapproval(amount, balance):\n",
    "    print(\"✅ Loan approved!\")\n",
    "else:\n",
    "    print(\"❌ Loan not approved.\")"
   ]
  },
  {
   "cell_type": "markdown",
   "metadata": {},
   "source": [
    "# 🧱 Data Structures in Python\n",
    "\n",
    "A **data structure** is a way of storing and organizing data efficiently.\n",
    "\n",
    "Python has several data structures like **lists, tuples, sets, and dictionaries**.\n",
    "Here, we will focus on **lists (arrays)**."
   ]
  },
  {
   "cell_type": "markdown",
   "metadata": {},
   "source": [
    "## 📋 Lists (Arrays)\n",
    "\n",
    "A **list** (also called an array in other languages) is used to store multiple items in a single variable.\n",
    "\n",
    "Lists are **ordered** and **changeable (mutable)**.\n",
    "\n",
    "Example:"
   ]
  },
  {
   "cell_type": "code",
   "execution_count": null,
   "metadata": {},
   "outputs": [],
   "source": [
    "marks1 = 23\n",
    "marks2 = 54\n",
    "marks3 = 89\n",
    "\n",
    "# Instead of using multiple variables, we can store them in a list\n",
    "students = ['kirui', 'kibet', 'rotich', 'junior']\n",
    "marks = [23, 54, 89]\n",
    "\n",
    "print(marks)\n",
    "print(students)"
   ]
  },
  {
   "cell_type": "markdown",
   "metadata": {},
   "source": [
    "### 🧭 Indexing\n",
    "\n",
    "Python lists use **0-based indexing**, meaning counting starts at 0.\n",
    "\n",
    "Example:"
   ]
  },
  {
   "cell_type": "code",
   "execution_count": null,
   "metadata": {},
   "outputs": [],
   "source": [
    "print(students[0])  # first element\n",
    "print(students[3])  # fourth element\n",
    "print(len(students))  # number of elements"
   ]
  },
  {
   "cell_type": "markdown",
   "metadata": {},
   "source": [
    "### ➕ Adding New Items\n",
    "\n",
    "We can use `.append()` to add elements to a list."
   ]
  },
  {
   "cell_type": "code",
   "execution_count": null,
   "metadata": {},
   "outputs": [],
   "source": [
    "students.append('eunice')\n",
    "print(students)\n",
    "\n",
    "marks.append(72)\n",
    "print(marks)"
   ]
  },
  {
   "cell_type": "markdown",
   "metadata": {},
   "source": [
    "### 🔁 Traversing a List\n",
    "\n",
    "We can loop through a list to perform calculations, like computing the average marks."
   ]
  },
  {
   "cell_type": "code",
   "execution_count": null,
   "metadata": {},
   "outputs": [],
   "source": [
    "def calculateaverage(array):\n",
    "    sum = 0\n",
    "    for i in range(len(array)):\n",
    "        sum = sum + array[i]\n",
    "    average = sum / len(array)\n",
    "    return average\n",
    "\n",
    "marks = [23, 54, 89, 34, 90, 56, 72]\n",
    "print(calculateaverage(marks))"
   ]
  },
  {
   "cell_type": "markdown",
   "metadata": {},
   "source": [
    "✅ The function loops through the list using an index and calculates the average.\n",
    "\n",
    "This is a common operation when working with data in arrays or lists."
   ]
  },
  {
   "cell_type": "markdown",
   "metadata": {},
   "source": [
    "## 🧠 Challenge\n",
    "\n",
    "Write a function that finds the **highest mark** in the `marks` list.\n",
    "\n",
    "Hints:\n",
    "- Initialize a variable `max_mark = 0`.\n",
    "- Loop through each mark and compare it with `max_mark`.\n",
    "- Update `max_mark` when you find a higher mark.\n",
    "\n",
    "Try it yourself!"
   ]
  }
 ],
 "metadata": {
  "kernelspec": {
   "display_name": "Python 3",
   "language": "python",
   "name": "python3"
  },
  "language_info": {
   "name": "python",
   "version": "3.14.0"
  }
 },
 "nbformat": 4,
 "nbformat_minor": 2
}
