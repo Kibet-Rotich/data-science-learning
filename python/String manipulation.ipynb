{
 "cells": [
  {
   "cell_type": "markdown",
   "metadata": {},
   "source": [
    "# 🧵 String Manipulation in Python\n",
    "\n",
    "In this lesson, we'll explore **strings** — one of the most common data types in Python.\n",
    "\n",
    "A **string** is simply a sequence of characters enclosed in quotes (`' '` or `\" \"`).\n",
    "\n",
    "We'll learn how to:\n",
    "- Access characters using **indexing**\n",
    "- Measure string **length**\n",
    "- Modify strings using built-in **methods**\n",
    "- Loop through strings and lists\n",
    "- Use **f-strings** for neat output\n"
   ]
  },
  {
   "cell_type": "markdown",
   "metadata": {},
   "source": [
    "## 🔹 Getting the Length of a String\n",
    "We can use the `len()` function to find out how many characters (including spaces) a string has."
   ]
  },
  {
   "cell_type": "code",
   "execution_count": 1,
   "metadata": {},
   "outputs": [
    {
     "data": {
      "text/plain": [
       "11"
      ]
     },
     "execution_count": 1,
     "metadata": {},
     "output_type": "execute_result"
    }
   ],
   "source": [
    "len('kibet asbel')"
   ]
  },
  {
   "cell_type": "markdown",
   "metadata": {},
   "source": [
    "## 🔹 Strings vs Lists (Arrays)\n",
    "Strings are similar to lists in that you can access elements using **0-based indexing**."
   ]
  },
  {
   "cell_type": "code",
   "execution_count": 2,
   "metadata": {},
   "outputs": [
    {
     "name": "stdout",
     "output_type": "stream",
     "text": [
      "23\n",
      "o\n",
      "11\n"
     ]
    }
   ],
   "source": [
    "marks = [23, 56, 23, 65, 78, 14]  # A list of numbers\n",
    "print(marks[0])  # Accessing the first element\n",
    "\n",
    "# Strings can also be accessed by index\n",
    "name = 'rotichkibet'\n",
    "print(name[1])  # Access the 2nd character\n",
    "print(len(name))  # Length of the string"
   ]
  },
  {
   "cell_type": "markdown",
   "metadata": {},
   "source": [
    "## 🔹 Common String Methods\n",
    "Python provides built-in methods to modify or inspect strings.\n",
    "\n",
    "Some common ones include:\n",
    "- `.upper()` → converts all letters to uppercase\n",
    "- `.title()` → capitalizes the first letter of each word\n",
    "- `.split()` → splits a sentence into a list of words"
   ]
  },
  {
   "cell_type": "code",
   "execution_count": 3,
   "metadata": {},
   "outputs": [
    {
     "name": "stdout",
     "output_type": "stream",
     "text": [
      "ROTICH KIBET\n",
      "Rotich Kibet\n",
      "['rotich', 'kibet']\n"
     ]
    }
   ],
   "source": [
    "name = 'rotich kibet'\n",
    "\n",
    "print(name.upper())   # Convert to uppercase\n",
    "print(name.title())   # Convert to title case\n",
    "print(name.split())   # Split into a list of words"
   ]
  },
  {
   "cell_type": "markdown",
   "metadata": {},
   "source": [
    "## 🔹 Example: Splitting a Sentence\n",
    "When we use `.split()` on a longer text, it divides it into separate words (by default using spaces as separators)."
   ]
  },
  {
   "cell_type": "code",
   "execution_count": 4,
   "metadata": {},
   "outputs": [
    {
     "name": "stdout",
     "output_type": "stream",
     "text": [
      "['My', 'name', 'is', 'rotich', 'Kibet']\n"
     ]
    }
   ],
   "source": [
    "text = \"My name is rotich Kibet\"\n",
    "print(text.split())"
   ]
  },
  {
   "cell_type": "markdown",
   "metadata": {},
   "source": [
    "## 🔹 Looping Through Strings\n",
    "You can use a `for` loop to go through each character in a string — just like looping through a list."
   ]
  },
  {
   "cell_type": "code",
   "execution_count": 5,
   "metadata": {},
   "outputs": [
    {
     "name": "stdout",
     "output_type": "stream",
     "text": [
      "r\n",
      "o\n",
      "t\n",
      "i\n",
      "c\n",
      "h\n",
      " \n",
      "k\n",
      "i\n",
      "b\n",
      "e\n",
      "t\n",
      "r\n",
      "o\n",
      "t\n",
      "i\n",
      "c\n",
      "h\n",
      " \n",
      "k\n",
      "i\n",
      "b\n",
      "e\n",
      "t\n"
     ]
    }
   ],
   "source": [
    "name = 'rotich kibet'\n",
    "\n",
    "# Using index-based loop\n",
    "for i in range(len(name)):\n",
    "    print(name[i])\n",
    "\n",
    "# Or directly iterating through characters\n",
    "for letter in name:\n",
    "    print(letter)"
   ]
  },
  {
   "cell_type": "markdown",
   "metadata": {},
   "source": [
    "## 🔹 Looping Through Lists of Words\n",
    "We can also loop through a list of words just like we loop through characters in a string."
   ]
  },
  {
   "cell_type": "code",
   "execution_count": 6,
   "metadata": {},
   "outputs": [
    {
     "name": "stdout",
     "output_type": "stream",
     "text": [
      "My\n",
      "name\n",
      "is\n",
      "rotich\n",
      "Kibet\n"
     ]
    }
   ],
   "source": [
    "words = ['My', 'name', 'is', 'rotich', 'Kibet']\n",
    "\n",
    "for word in words:\n",
    "    print(word)"
   ]
  },
  {
   "cell_type": "markdown",
   "metadata": {},
   "source": [
    "## 🔹 Example: Increasing Each Mark by 5\n",
    "We can loop through a list of numbers, perform some operations, and store the results in a new list."
   ]
  },
  {
   "cell_type": "code",
   "execution_count": 7,
   "metadata": {},
   "outputs": [
    {
     "name": "stdout",
     "output_type": "stream",
     "text": [
      "[28, 61, 28, 70, 83, 19]\n"
     ]
    }
   ],
   "source": [
    "marks = [23, 56, 23, 65, 78, 14]\n",
    "newmarks = []\n",
    "\n",
    "for mark in marks:\n",
    "    marknew = mark + 5\n",
    "    newmarks.append(marknew)\n",
    "\n",
    "print(newmarks)"
   ]
  },
  {
   "cell_type": "markdown",
   "metadata": {},
   "source": [
    "## 🔹 f-Strings (Formatted Strings)\n",
    "Python allows you to embed variables inside strings using **f-strings**, which makes output cleaner and easier to read."
   ]
  },
  {
   "cell_type": "code",
   "execution_count": 8,
   "metadata": {},
   "outputs": [
    {
     "name": "stdout",
     "output_type": "stream",
     "text": [
      "Your name is rotich kibet You are 30 years old\n",
      "Your name is rotich kibet and you are 30 years old\n"
     ]
    }
   ],
   "source": [
    "name = 'rotich kibet'\n",
    "age = 30\n",
    "\n",
    "# Traditional concatenation\n",
    "print('Your name is', name, 'You are', age, 'years old')\n",
    "\n",
    "# f-string method (recommended)\n",
    "print(f'Your name is {name} and you are {age} years old')"
   ]
  },
  {
   "cell_type": "markdown",
   "metadata": {},
   "source": [
    "✅ **Summary:**\n",
    "- Strings are sequences of characters (like arrays of text)\n",
    "- You can access characters using indexing\n",
    "- `len()`, `.upper()`, `.title()`, `.split()` are common string functions\n",
    "- Loops can be used to go through strings or lists\n",
    "- Use **f-strings** for clean, readable output"
   ]
  },
  {
   "cell_type": "markdown",
   "metadata": {},
   "source": [
    "## 🧠 Exercise: String Analysis Program\n",
    "Write a program that:\n",
    "1. Asks the user to enter a sentence.\n",
    "2. Outputs the sentence in **uppercase**.\n",
    "3. Displays the **number of letters and spaces** in the sentence.\n",
    "4. Shows the **number of words** in the sentence.\n",
    "\n",
    "💡 *Hint:* Use `.upper()`, `.split()`, and `len()` functions."
   ]
  }
 ],
 "metadata": {
  "kernelspec": {
   "display_name": "venv",
   "language": "python",
   "name": "python3"
  },
  "language_info": {
   "codemirror_mode": {
    "name": "ipython",
    "version": 3
   },
   "file_extension": ".py",
   "mimetype": "text/x-python",
   "name": "python",
   "nbconvert_exporter": "python",
   "pygments_lexer": "ipython3",
   "version": "3.14.0"
  }
 },
 "nbformat": 4,
 "nbformat_minor": 2
}
