{
  "cells": [
    {
      "cell_type": "markdown",
      "metadata": {
        "id": "bJiQxGanM4YX"
      },
      "source": [
        "# Python Fundamentals — Intro Class\n",
        "By Rotich Kibet"
      ]
    },
    {
      "cell_type": "markdown",
      "metadata": {
        "id": "tZeS-dW8M4Ya"
      },
      "source": [
        "## PRINT STATEMENTS & COMMENTS\n",
        "The print() function displays messages or data on the screen"
      ]
    },
    {
      "cell_type": "code",
      "execution_count": 1,
      "metadata": {
        "colab": {
          "base_uri": "https://localhost:8080/"
        },
        "id": "YWoE1ltIM4Yc",
        "outputId": "44ea68f5-ffb6-487b-d45b-edb19881ff25"
      },
      "outputs": [
        {
          "output_type": "stream",
          "name": "stdout",
          "text": [
            "Rotich Kibet\n"
          ]
        }
      ],
      "source": [
        "print(\"Rotich Kibet\")"
      ]
    },
    {
      "cell_type": "code",
      "execution_count": 2,
      "metadata": {
        "colab": {
          "base_uri": "https://localhost:8080/"
        },
        "id": "6ZmKj9EMM4Yd",
        "outputId": "f83a67fa-7393-4c83-e92e-ab96ab214aaa"
      },
      "outputs": [
        {
          "output_type": "stream",
          "name": "stdout",
          "text": [
            "Hello, world!\n",
            "Welcome to Python programming!\n"
          ]
        }
      ],
      "source": [
        "# Comments are lines ignored by Python. They help explain code.\n",
        "print(\"Hello, world!\")  # This prints the text \"Hello, world!\"\n",
        "print(\"Welcome to Python programming!\")"
      ]
    },
    {
      "cell_type": "markdown",
      "metadata": {
        "id": "5rq3wfQjM4Ye"
      },
      "source": [
        "## VARIABLES & DATA TYPES\n",
        "Variables store data values in memory"
      ]
    },
    {
      "cell_type": "code",
      "execution_count": 3,
      "metadata": {
        "id": "nCYBx7SoM4Yf"
      },
      "outputs": [],
      "source": [
        "name = \"Rotich Kibet\"    # string\n",
        "age = 25                 # integer\n",
        "school = 'JKUAT'         # string\n",
        "in_school = True         # boolean (True or False)\n",
        "average_points = 23.5    # float (decimal number)"
      ]
    },
    {
      "cell_type": "code",
      "execution_count": 4,
      "metadata": {
        "id": "_a2MZ7z7M4Yg"
      },
      "outputs": [],
      "source": [
        "# You can reassign variables\n",
        "name = 'Omwami'\n",
        "age = 35\n",
        "school = 'UON'"
      ]
    },
    {
      "cell_type": "code",
      "execution_count": 5,
      "metadata": {
        "colab": {
          "base_uri": "https://localhost:8080/"
        },
        "id": "4mdtTcaYM4Yh",
        "outputId": "732a8670-5c9e-4c60-e12e-dc3b4ff93b5a"
      },
      "outputs": [
        {
          "output_type": "stream",
          "name": "stdout",
          "text": [
            "<class 'int'>\n"
          ]
        }
      ],
      "source": [
        "# Check the data type of a variable using type()\n",
        "print(type(age))"
      ]
    },
    {
      "cell_type": "markdown",
      "metadata": {
        "id": "B9HQVnwcM4Yj"
      },
      "source": [
        "## USER INPUT\n",
        "input() allows users to enter values during program execution"
      ]
    },
    {
      "cell_type": "code",
      "execution_count": 6,
      "metadata": {
        "colab": {
          "base_uri": "https://localhost:8080/"
        },
        "id": "AyNZl-f4M4Yk",
        "outputId": "454617df-6437-410d-e623-0f02fe4580f4"
      },
      "outputs": [
        {
          "output_type": "stream",
          "name": "stdout",
          "text": [
            "What is your name? : kibet\n",
            "Hello, kibet\n"
          ]
        }
      ],
      "source": [
        "username = input(\"What is your name? : \")\n",
        "print(\"Hello,\", username)"
      ]
    },
    {
      "cell_type": "markdown",
      "metadata": {
        "id": "VejQUdX8M4Yl"
      },
      "source": [
        "## TYPE CONVERSION\n",
        "Convert between different data types"
      ]
    },
    {
      "cell_type": "code",
      "execution_count": 7,
      "metadata": {
        "colab": {
          "base_uri": "https://localhost:8080/"
        },
        "id": "fyKS54pJM4Yl",
        "outputId": "a89425ca-0428-451a-df6c-7f8ed8214d3b"
      },
      "outputs": [
        {
          "output_type": "stream",
          "name": "stdout",
          "text": [
            "How old are you? : 78\n",
            "Your year of birth is: 1947\n"
          ]
        }
      ],
      "source": [
        "user_age = input(\"How old are you? : \")\n",
        "yob = 2025 - int(user_age)   # Convert input to integer before calculation\n",
        "print(\"Your year of birth is:\", yob)"
      ]
    },
    {
      "cell_type": "code",
      "execution_count": 8,
      "metadata": {
        "colab": {
          "base_uri": "https://localhost:8080/"
        },
        "id": "uW6vz-2hM4Ym",
        "outputId": "f050aaa6-d61c-4598-8fcb-4af7b897d03f"
      },
      "outputs": [
        {
          "output_type": "stream",
          "name": "stdout",
          "text": [
            "<class 'str'>\n",
            "<class 'int'>\n"
          ]
        }
      ],
      "source": [
        "age = '78'\n",
        "print(type(age))\n",
        "age = int(age)   # convert string to integer\n",
        "print(type(age))"
      ]
    },
    {
      "cell_type": "code",
      "execution_count": 9,
      "metadata": {
        "colab": {
          "base_uri": "https://localhost:8080/"
        },
        "id": "RZ6QwWXzM4Ym",
        "outputId": "27df9457-ad27-4484-fe39-555192d583ae"
      },
      "outputs": [
        {
          "output_type": "stream",
          "name": "stdout",
          "text": [
            "<class 'int'>\n",
            "<class 'str'>\n"
          ]
        }
      ],
      "source": [
        "age = 78\n",
        "print(type(age))\n",
        "age = str(age)   # convert integer to string\n",
        "print(type(age))"
      ]
    },
    {
      "cell_type": "markdown",
      "metadata": {
        "id": "KuHfQ3KqM4Yn"
      },
      "source": [
        "## ARITHMETIC OPERATIONS\n",
        "+ addition, - subtraction, / division, * multiplication\n",
        "// floor division, % modulus (remainder), ** exponent"
      ]
    },
    {
      "cell_type": "code",
      "execution_count": 10,
      "metadata": {
        "colab": {
          "base_uri": "https://localhost:8080/"
        },
        "id": "5tOhIdwrM4Yn",
        "outputId": "272ac7b7-e3ef-4830-aeb2-10ea85f9e106"
      },
      "outputs": [
        {
          "output_type": "stream",
          "name": "stdout",
          "text": [
            "25\n",
            "15\n",
            "4.0\n",
            "100\n"
          ]
        }
      ],
      "source": [
        "number1 = 20\n",
        "number2 = 5\n",
        "print(number1 + number2)\n",
        "print(number1 - number2)\n",
        "print(number1 / number2)\n",
        "print(number1 * number2)"
      ]
    },
    {
      "cell_type": "code",
      "execution_count": 11,
      "metadata": {
        "colab": {
          "base_uri": "https://localhost:8080/"
        },
        "id": "GfolLawvM4Yo",
        "outputId": "68e8667b-4d43-4e51-c1e7-ceffccafa110"
      },
      "outputs": [
        {
          "output_type": "stream",
          "name": "stdout",
          "text": [
            "2\n",
            "3\n",
            "1024\n"
          ]
        }
      ],
      "source": [
        "print(5 // 2)   # floor division (no decimals)\n",
        "print(10 % 7)   # modulus (remainder)\n",
        "print(2 ** 10)  # exponent (2^10)"
      ]
    },
    {
      "cell_type": "markdown",
      "metadata": {
        "id": "aQWB_FVGM4Yo"
      },
      "source": [
        "## COMPARISON OPERATORS\n",
        "- `>` greater than\n",
        "- `<` less than\n",
        "- `==` equal to\n",
        "- `>=` greater than or equal to\n",
        "- `<=` less than or equal to"
      ]
    },
    {
      "cell_type": "code",
      "execution_count": 12,
      "metadata": {
        "colab": {
          "base_uri": "https://localhost:8080/"
        },
        "id": "X_MUWgNAM4Yo",
        "outputId": "fc8c2d34-f621-4839-f069-6a984d5f27ee"
      },
      "outputs": [
        {
          "output_type": "stream",
          "name": "stdout",
          "text": [
            "Is the person an adult?\n",
            "True\n"
          ]
        }
      ],
      "source": [
        "age = 20\n",
        "print(\"Is the person an adult?\")\n",
        "print(age >= 18)  # True if age is 18 or more"
      ]
    },
    {
      "cell_type": "markdown",
      "metadata": {
        "id": "jwUNchszM4Yp"
      },
      "source": [
        "## LOGICAL OPERATORS\n",
        "- `and` → True only if both conditions are True\n",
        "- `or` → True if at least one condition is True\n",
        "- `not` → reverses the result (True becomes False)"
      ]
    },
    {
      "cell_type": "code",
      "execution_count": 13,
      "metadata": {
        "colab": {
          "base_uri": "https://localhost:8080/"
        },
        "id": "NbYf1XfQM4Yp",
        "outputId": "719f8d8b-b7fc-4428-cbd4-d0745ba7335e"
      },
      "outputs": [
        {
          "output_type": "stream",
          "name": "stdout",
          "text": [
            "How old are you? : 67\n",
            "False\n"
          ]
        }
      ],
      "source": [
        "my_age = 15\n",
        "user_age = int(input(\"How old are you? : \"))\n",
        "# Is the person not an adult?\n",
        "print(not user_age >= 18)"
      ]
    },
    {
      "cell_type": "code",
      "execution_count": 14,
      "metadata": {
        "colab": {
          "base_uri": "https://localhost:8080/"
        },
        "id": "LQvTaB61M4Yq",
        "outputId": "48af2663-f6bd-4629-8494-a4168fc768ff"
      },
      "outputs": [
        {
          "output_type": "stream",
          "name": "stdout",
          "text": [
            "How old are you? 56\n",
            "Next year you will be 57 years old\n",
            "Are you an adult? True\n"
          ]
        }
      ],
      "source": [
        "# Ask for user's age and show next year's age and adulthood status\n",
        "age = input(\"How old are you? \")\n",
        "print(\"Next year you will be\", int(age) + 1, \"years old\")\n",
        "print(\"Are you an adult?\", int(age) >= 18)"
      ]
    },
    {
      "cell_type": "markdown",
      "metadata": {
        "id": "olPQ4MKKM4Yq"
      },
      "source": [
        "## CONTROL STATEMENTS (IF, ELIF, ELSE)"
      ]
    },
    {
      "cell_type": "code",
      "execution_count": 15,
      "metadata": {
        "colab": {
          "base_uri": "https://localhost:8080/"
        },
        "id": "u22D9_yQM4Yq",
        "outputId": "7e5991f1-f3b6-4a78-a8ce-f5cfd916b652"
      },
      "outputs": [
        {
          "output_type": "stream",
          "name": "stdout",
          "text": [
            "How old are you? 34\n",
            "You are an adult\n"
          ]
        }
      ],
      "source": [
        "# Example 1: Simple if-else\n",
        "age = int(input(\"How old are you? \"))\n",
        "if age >= 18:\n",
        "    print(\"You are an adult\")\n",
        "else:\n",
        "    print(\"You are not an adult\")"
      ]
    },
    {
      "cell_type": "code",
      "execution_count": 16,
      "metadata": {
        "colab": {
          "base_uri": "https://localhost:8080/"
        },
        "id": "oErYA9nTM4Yr",
        "outputId": "651575f1-4194-467a-db9b-34234ff43ff3"
      },
      "outputs": [
        {
          "output_type": "stream",
          "name": "stdout",
          "text": [
            "How many marks did you get? 78\n",
            "Grade: A\n"
          ]
        }
      ],
      "source": [
        "# Example 2: If - Elif - Else (grading system)\n",
        "marks = int(input(\"How many marks did you get? \"))\n",
        "if marks >= 70:\n",
        "    print(\"Grade: A\")\n",
        "elif marks >= 60:\n",
        "    print(\"Grade: B\")\n",
        "elif marks >= 50:\n",
        "    print(\"Grade: C\")\n",
        "else:\n",
        "    print(\"Grade: Fail\")"
      ]
    },
    {
      "cell_type": "markdown",
      "metadata": {
        "id": "33cgGtmBM4Yr"
      },
      "source": [
        "## FOR LOOP\n",
        "Loops help you repeat actions multiple times"
      ]
    },
    {
      "cell_type": "code",
      "execution_count": 17,
      "metadata": {
        "colab": {
          "base_uri": "https://localhost:8080/"
        },
        "id": "mrXSrM1QM4Yr",
        "outputId": "0c35ec62-d0aa-4f2f-bd29-820cfa92485e"
      },
      "outputs": [
        {
          "output_type": "stream",
          "name": "stdout",
          "text": [
            "0\n",
            "1\n",
            "2\n",
            "3\n",
            "4\n",
            "5\n",
            "6\n",
            "7\n",
            "8\n",
            "9\n"
          ]
        }
      ],
      "source": [
        "# range(10) gives numbers 0–9\n",
        "for i in range(10):\n",
        "    print(i)"
      ]
    },
    {
      "cell_type": "code",
      "source": [
        "# Example of a while loop\n",
        "count = 0\n",
        "while count < 5:\n",
        "    print(count)\n",
        "    count += 1"
      ],
      "metadata": {
        "colab": {
          "base_uri": "https://localhost:8080/"
        },
        "id": "T9xHDr50NbnJ",
        "outputId": "1cdddead-a552-41a8-e77b-2d8e8945064a"
      },
      "execution_count": 19,
      "outputs": [
        {
          "output_type": "stream",
          "name": "stdout",
          "text": [
            "0\n",
            "1\n",
            "2\n",
            "3\n",
            "4\n"
          ]
        }
      ]
    },
    {
      "cell_type": "markdown",
      "metadata": {
        "id": "512fb805"
      },
      "source": [
        "## FUNCTIONS\n",
        "Functions are blocks of reusable code that perform a specific task. They help organize code and make it more readable and maintainable.\n",
        "\n",
        "- Defined using the `def` keyword.\n",
        "- Can take arguments (inputs) and return values (outputs).\n",
        "- Use the `return` keyword to send a value back from the function."
      ]
    },
    {
      "cell_type": "code",
      "metadata": {
        "colab": {
          "base_uri": "https://localhost:8080/"
        },
        "id": "af689c41",
        "outputId": "81c676a7-50d5-4f34-909b-09f4e2e10f4d"
      },
      "source": [
        "# Example of a simple function\n",
        "def greet(name):\n",
        "  # This function greets the person passed in as a parameter.\n",
        "  print(\"Hello, \",name,\"!\")\n",
        "\n",
        "# Calling the function\n",
        "greet(\"Rotich\")\n",
        "greet(\"Omwami\")"
      ],
      "execution_count": 20,
      "outputs": [
        {
          "output_type": "stream",
          "name": "stdout",
          "text": [
            "Hello,  Rotich !\n",
            "Hello,  Omwami !\n"
          ]
        }
      ]
    }
  ],
  "metadata": {
    "kernelspec": {
      "display_name": "Python 3",
      "language": "python",
      "name": "python3"
    },
    "language_info": {
      "codemirror_mode": {
        "name": "ipython",
        "version": 3
      },
      "file_extension": ".py",
      "mimetype": "text/x-python",
      "name": "python",
      "nbconvert_exporter": "python",
      "pygments_lexer": "ipython3",
      "version": "3.10.0"
    },
    "colab": {
      "provenance": []
    }
  },
  "nbformat": 4,
  "nbformat_minor": 0
}