{
  "cells": [
    {
      "cell_type": "markdown",
      "metadata": {
        "id": "Y0JQF5DXvORf"
      },
      "source": [
        "# 🧠 Python Dictionaries\n",
        "\n",
        "In Python, a **dictionary** is a data structure that stores data in **key–value pairs**.\n",
        "\n",
        "It is one of the most useful and flexible ways to organize data.\n",
        "\n",
        "A dictionary looks like this:\n",
        "```python\n",
        "student = { 'name': 'Kibet', 'age': 21, 'isStudent': True }\n",
        "```\n",
        "\n",
        "Here:\n",
        "- `'name'`, `'age'`, and `'isStudent'` are **keys**.\n",
        "- `'Kibet'`, `21`, and `True` are their respective **values**."
      ]
    },
    {
      "cell_type": "code",
      "execution_count": 1,
      "metadata": {
        "colab": {
          "base_uri": "https://localhost:8080/"
        },
        "id": "r_6QF70_vORi",
        "outputId": "1b005080-876a-4244-df02-69fa1161d2f0"
      },
      "outputs": [
        {
          "output_type": "stream",
          "name": "stdout",
          "text": [
            "{'name': 'kirui kibet', 'age': 30, 'isstudent': True}\n",
            "<class 'dict'>\n"
          ]
        }
      ],
      "source": [
        "# Creating a dictionary\n",
        "ourdictionary = {\n",
        "    'name': 'kirui kibet',\n",
        "    'age': 30,\n",
        "    'isstudent': True\n",
        "}\n",
        "\n",
        "print(ourdictionary)\n",
        "print(type(ourdictionary))"
      ]
    },
    {
      "cell_type": "markdown",
      "metadata": {
        "id": "RKXFoNpZvORk"
      },
      "source": [
        "## 🔹 Accessing Values\n",
        "You can access values using their **keys** in square brackets `[]` or by using the `.get()` method."
      ]
    },
    {
      "cell_type": "code",
      "execution_count": 2,
      "metadata": {
        "colab": {
          "base_uri": "https://localhost:8080/"
        },
        "id": "4RPlBe_kvORk",
        "outputId": "20e2f368-0811-4531-b996-44428cd80f0d"
      },
      "outputs": [
        {
          "output_type": "stream",
          "name": "stdout",
          "text": [
            "kirui kibet\n",
            "30\n",
            "True\n",
            "kirui kibet\n"
          ]
        }
      ],
      "source": [
        "print(ourdictionary['name'])\n",
        "print(ourdictionary['age'])\n",
        "print(ourdictionary['isstudent'])\n",
        "\n",
        "# Using get() is safer – it won't cause an error if the key doesn't exist\n",
        "print(ourdictionary.get('name'))"
      ]
    },
    {
      "cell_type": "markdown",
      "metadata": {
        "id": "kUscBboSvORl"
      },
      "source": [
        "## ✏️ Adding and Updating Data\n",
        "You can add new key–value pairs or change existing values using assignment syntax."
      ]
    },
    {
      "cell_type": "code",
      "execution_count": 3,
      "metadata": {
        "colab": {
          "base_uri": "https://localhost:8080/"
        },
        "id": "2JHubB9RvORl",
        "outputId": "c6bfa1f0-64bb-493e-8856-9c0cc07d09c0"
      },
      "outputs": [
        {
          "output_type": "stream",
          "name": "stdout",
          "text": [
            "{'name': 'kirui kibet', 'age': 30, 'isstudent': True, 'location': 'MATUU'}\n",
            "{'name': 'kirui kibet', 'age': 22, 'isstudent': True, 'location': 'MATUU'}\n"
          ]
        }
      ],
      "source": [
        "# Adding a new key\n",
        "ourdictionary['location'] = 'MATUU'\n",
        "print(ourdictionary)\n",
        "\n",
        "# Updating an existing value\n",
        "ourdictionary['age'] = 22\n",
        "print(ourdictionary)"
      ]
    },
    {
      "cell_type": "markdown",
      "metadata": {
        "id": "hnBe3_P1vORm"
      },
      "source": [
        "## ❌ Removing Items\n",
        "You can remove items using the `del` keyword or methods like `.popitem()`."
      ]
    },
    {
      "cell_type": "code",
      "execution_count": 4,
      "metadata": {
        "colab": {
          "base_uri": "https://localhost:8080/"
        },
        "id": "djHcK0CyvORm",
        "outputId": "c576de71-be33-48fd-fd4f-7957e51f463b"
      },
      "outputs": [
        {
          "output_type": "stream",
          "name": "stdout",
          "text": [
            "{'name': 'kirui kibet', 'age': 22, 'isstudent': True}\n",
            "{'name': 'kirui kibet', 'age': 22}\n"
          ]
        }
      ],
      "source": [
        "# Delete a specific key\n",
        "del ourdictionary['location']\n",
        "print(ourdictionary)\n",
        "\n",
        "# Remove the last inserted item\n",
        "ourdictionary.popitem()\n",
        "print(ourdictionary)"
      ]
    },
    {
      "cell_type": "markdown",
      "metadata": {
        "id": "9Z2JfKZuvORn"
      },
      "source": [
        "## 🔁 Looping Through a Dictionary\n",
        "We can loop through **keys**, **values**, or both using `.keys()`, `.values()`, or `.items()` respectively."
      ]
    },
    {
      "cell_type": "code",
      "execution_count": 5,
      "metadata": {
        "colab": {
          "base_uri": "https://localhost:8080/"
        },
        "id": "L9ZtRhNcvORn",
        "outputId": "dc8b4a2d-c668-4872-8871-84713d316343"
      },
      "outputs": [
        {
          "output_type": "stream",
          "name": "stdout",
          "text": [
            "name\n",
            "age\n",
            "isstudent\n",
            "kirui kibet\n",
            "30\n",
            "True\n",
            "name : kirui kibet\n",
            "age : 30\n",
            "isstudent : True\n"
          ]
        }
      ],
      "source": [
        "ourdictionary = {\n",
        "    'name': 'kirui kibet',\n",
        "    'age': 30,\n",
        "    'isstudent': True\n",
        "}\n",
        "\n",
        "# Loop through keys\n",
        "for key in ourdictionary:\n",
        "    print(key)\n",
        "\n",
        "# Loop through values\n",
        "for value in ourdictionary.values():\n",
        "    print(value)\n",
        "\n",
        "# Loop through both keys and values\n",
        "for key, value in ourdictionary.items():\n",
        "    print(key, ':', value)"
      ]
    },
    {
      "cell_type": "markdown",
      "metadata": {
        "id": "SHPYoZfkvORo"
      },
      "source": [
        "## 🧩 Nested Arrays and Nested Dictionaries\n",
        "\n",
        "Sometimes, we need to store multiple Arrays or dictionaries inside one another.\n",
        "\n",
        "### 📦 Nested Lists (arrays inside arrays)"
      ]
    },
    {
      "cell_type": "code",
      "execution_count": 6,
      "metadata": {
        "colab": {
          "base_uri": "https://localhost:8080/"
        },
        "id": "mFgL_hlBvORo",
        "outputId": "66c66638-986a-4f26-c960-380794707a4f"
      },
      "outputs": [
        {
          "output_type": "stream",
          "name": "stdout",
          "text": [
            "[1, 2, 3]\n",
            "[4, 5, 65]\n",
            "[[2, 3, 4], 6, 7, 8]\n"
          ]
        }
      ],
      "source": [
        "kibet = [[1, 2, 3], [4, 5, 65], [[2, 3, 4], 6, 7, 8]]\n",
        "\n",
        "for item in kibet:\n",
        "    print(item)"
      ]
    },
    {
      "cell_type": "markdown",
      "metadata": {
        "id": "G4xNHISPvORo"
      },
      "source": [
        "### 🧱 Nested Dictionaries (dictionary inside dictionary)\n",
        "\n",
        "This is useful when you want to represent complex data, like information for multiple students."
      ]
    },
    {
      "cell_type": "code",
      "execution_count": 7,
      "metadata": {
        "colab": {
          "base_uri": "https://localhost:8080/"
        },
        "id": "yOYW556wvORp",
        "outputId": "33fe5ec7-c748-4ed0-ff27-f38ff9f6b15c"
      },
      "outputs": [
        {
          "output_type": "stream",
          "name": "stdout",
          "text": [
            "{'name': 'Kibet', 'age': 21, 'marks': 85}\n",
            "Ann\n",
            "student1: Kibet is 21 years old and scored 85\n",
            "student2: Ann is 20 years old and scored 90\n",
            "student3: Brian is 22 years old and scored 76\n"
          ]
        }
      ],
      "source": [
        "students = {\n",
        "    'student1': {'name': 'Kibet', 'age': 21, 'marks': 85},\n",
        "    'student2': {'name': 'Ann', 'age': 20, 'marks': 90},\n",
        "    'student3': {'name': 'Brian', 'age': 22, 'marks': 76}\n",
        "}\n",
        "\n",
        "# Accessing nested dictionary values\n",
        "print(students['student1'])\n",
        "print(students['student2']['name'])\n",
        "\n",
        "# Looping through nested dictionaries\n",
        "for student_id, info in students.items():\n",
        "    print(f\"{student_id}: {info['name']} is {info['age']} years old and scored {info['marks']}\")"
      ]
    },
    {
      "cell_type": "markdown",
      "metadata": {
        "id": "fh-uED_uvORp"
      },
      "source": [
        "## 🧠 Practice Challenge\n",
        "1. Create a dictionary called `employee` with keys: `name`, `position`, and `salary`.\n",
        "2. Add a new key called `department`.\n",
        "3. Increase the salary by 10%.\n",
        "4. Loop through the dictionary and print all key–value pairs.\n",
        "\n",
        "💡 *Bonus:* Create a dictionary of three employees (nested dictionaries) and print the one with the highest salary."
      ]
    }
  ],
  "metadata": {
    "kernelspec": {
      "display_name": "Python 3",
      "language": "python",
      "name": "python3"
    },
    "language_info": {
      "name": "python",
      "version": "3.x"
    },
    "colab": {
      "provenance": []
    }
  },
  "nbformat": 4,
  "nbformat_minor": 0
}